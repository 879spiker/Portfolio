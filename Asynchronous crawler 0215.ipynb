{
 "cells": [
  {
   "cell_type": "code",
   "execution_count": 1,
   "id": "c1b15e00",
   "metadata": {},
   "outputs": [],
   "source": [
    "# -*- coding: utf-8 -*-\n",
    "\"\"\"\n",
    "Created on Feb 2 00:19:43 2022\n",
    "\n",
    "@author: PythonCat_879\n",
    "\"\"\"\n",
    "\n",
    "from aiohttp import ClientSession\n",
    "from bs4 import BeautifulSoup\n",
    "import asyncio\n",
    "import time\n",
    "import aiohttp\n",
    "from fake_useragent import UserAgent # 作假標頭 # 不得不說這一行程式碼真的是偉大的發明\n",
    "import re\n",
    "import csv\n",
    "\n"
   ]
  },
  {
   "cell_type": "code",
   "execution_count": 2,
   "id": "7af0f84b",
   "metadata": {},
   "outputs": [],
   "source": [
    "async def main(lv_name,connector,timeout): # main為非同步程式最高級進入點\n",
    "    # 給定初始資料\n",
    "    links = list() #  空串列設置\n",
    "    for original_url in upper_level:\n",
    "        links.append(original_url)\n",
    "    async with ClientSession(connector=connector, timeout=timeout, trust_env = True) as session:\n",
    "        # trust_env = 用於從 HTTP_PROXY、HTTPS_PROXY、WS_PROXY 或 WSS_PROXY 環境變量中提取代理配置的構造函數（均不區分大小寫）：\n",
    "        \n",
    "        #為何要用session？\n",
    "        #要執行大量的 HTTP 要求，建議使用 ClientSession ，該類別不僅會建立 connection pool\n",
    "        #更實作了 keep-alive 等功能，可以有效提升執行效率\n",
    "        #利用Python Comprehesion語法，來建立任務清單(Task)，接著\n",
    "        #一個session內部包含一個連接池。連接重用和保持連接（預設情況下均處於啟用狀態）可能會提高總體性能。\n",
    "        \n",
    "        #透過asyncio模組(Module)的gather()方法(Method)進行打包及執行\n",
    "        #也由於呼叫的gather()為非同步的方法(Method)，所以要加上await關鍵字，來進行非同步等待。\n",
    "      \n",
    "        tasks = [asyncio.create_task(fetch(link, session)) for link in links]  #也可以用這個寫法\n",
    "        return_list = await asyncio.gather(*tasks)  # 打包任務清單及執行 # 回傳一list\n",
    "                                                                          \n",
    "        #print(type(return_list))\n",
    "        # print(return_list)\n",
    "        # 這邊的名字目前沒辦法透過迴圈設定，因為非同步的關係，可會造成無法執行，目前還在找原因\n",
    "        path = lv_name # 每一層的名字(Asynchronous_crawler_level_XX.csv) # csv檔案格式。 \n",
    "        file = open(path, 'w', newline='', encoding='UTF-8')\n",
    "        writer = csv.writer(file, quoting=csv.QUOTE_ALL,delimiter=';')\n",
    "        writer.writerows(return_list)\n",
    "        file.close()\n",
    "        \n",
    "        f = open(\"time_record_\" + str(counter+1) + \"level.txt\", 'w' , encoding='UTF-8')\n",
    "        print(\"花費:\" + str(float(time.time() - start_time)) + \"秒\" , file = f)\n",
    "        f.close()\n",
    "        print(\"花費:\" + str(float(time.time() - start_time)) + \"秒\")\n",
    "        \n",
    "        # P.S. 參數加上單引號後，資料被打包成元組\n",
    "        # 加上await進行非同步等待。\n",
    "        \n",
    "#定義協程(coroutine)\n",
    "async def fetch(link, session):\n",
    "    # 拿取上面定義的session(也就是任務清單)as response\n",
    "    every_link = []\n",
    "    try:\n",
    "        async with session.get(link, headers = headers, ssl=False) as response:  #非同步發送請求 # 加入headers作假標頭\n",
    "            # 不檢查SSL (不驗證Https，以節省時間)\n",
    "            try:\n",
    "                url_list = []\n",
    "                parent_link = [] # 這邊一定是空的，目前階段只找out_link\n",
    "                auth = 1.0\n",
    "                hub = 1.0\n",
    "                html_body = await asyncio.wait_for(search_link(response),timeout=3) # 1110103 終於想到如何加上timeout...\n",
    "                # 加上timeout 心得，必須多寫一個協程，讓其可以套用 asyncio.wait_for 方法，如此一來讓原本一單線程中其一物件進入等待。\n",
    "                # (在這邊就是 html_body)\n",
    "                # 然後就可以在這邊加上 asyncio.wait_for 使其擁有timeout功能\n",
    "                await response.text(encoding=\"utf-8\") # 非同步等待\n",
    "\n",
    "                                                  # 這邊因為要解析文檔，所以使用text方法，如果要讀取影像，可以使用read方法\n",
    "                                                  # 1110102 加入utf-8編碼\n",
    "                                                  # 這邊我的理解為，凡是用非同步請求為開頭來接收的函式，其結果都返回後同樣也要非同步接收\n",
    "                                                  # 也就是 \"await\" 方法。\n",
    "                soup = BeautifulSoup(html_body, 'html5lib')  # 解析HTML原始碼  # 指定'html5lib'作為解析器\n",
    "                # 下面就可以開始解析soup物件。\n",
    "                #若只使用sp.link 則只會找出第一筆\n",
    "                #故這邊要使用\"find.all\"語法\n",
    "                link_search = soup.find_all(\"a\") #找出所有的 <a> (超連結)\n",
    "                for i in range(len(link_search)):\n",
    "                    k = str(link_search[i].get(\"href\"))  #這行一定要記得要轉type！！！轉成str不然有時候會無法切片取值。\n",
    "                    if k[0:5] == \"https\": #只留下\"https\"\n",
    "                        url_list.append(k)\n",
    "                #for url in url_list[:1]: # 印出前1 # 測試有沒有get到東西\n",
    "                    #print(url) # 印出抓取到的網址 # 0205 印出會造成jupyter無法執行，故在程式測試穩定後應關閉\n",
    "                # 想辦法存成以下格式\n",
    "                # every_link = [\"original_url\",\"parent_links(list)\",\"children_link(list)\",\"auth(int)\",\"hub(int)\"]\n",
    "                every_link.append(link)\n",
    "                every_link.append(parent_link)\n",
    "                every_link.append(url_list)\n",
    "                every_link.append(auth)\n",
    "                every_link.append(hub)\n",
    "            except Exception as e:\n",
    "                print(\"timeout!\",e)\n",
    "    except Exception as e:\n",
    "        # print(\"Exception\",e)\n",
    "        pass\n",
    "    return every_link\n",
    "    # 回傳 every_link = [\"original_url\",\"parent_links(list)\",\"children_link(list)\",\"auth(int)\",\"hub(int)\"]\n",
    "\n",
    "async def search_link(response):\n",
    "    html_body =  await response.text(encoding=\"utf-8\") # 非同步等待\n",
    "    return html_body\n",
    "\n",
    "def str_to_url(aaa): # aaa 為文字格式。\n",
    "    bbb = aaa.split(\",\") # 利用逗號做切分 # bbb為list格式 # 會回傳一個list\n",
    "    tmp_url_list = [] # 裝整理好的網址\n",
    "    for index,url in enumerate(bbb):  # 在這bbb串列中做遞迴\n",
    "        for index2,char in enumerate(url):\n",
    "            if char == 'h':\n",
    "                url = url[index2:] \n",
    "                break  # 找到 h開頭就跳出\n",
    "        url = url[:-1] # 去除尾端單引號\n",
    "        if len(url) != 0: # 不為空才加入\n",
    "            tmp_url_list.append(url) #有可能加入奇怪網址，但沒關係，下面會刪除\n",
    "    for index,url in enumerate(tmp_url_list):\n",
    "        if url[0] != \"h\": # 刪除開頭不為h的壞網址\n",
    "            del tmp_url_list[index]\n",
    "    # 所以我只要再把這些網址NODE化之後再加入CHILDREN串列就好 =)\n",
    "    return tmp_url_list #回傳整理好的網址\n",
    "\n"
   ]
  },
  {
   "cell_type": "markdown",
   "id": "cb112b8b",
   "metadata": {},
   "source": [
    "# 手動初始化"
   ]
  },
  {
   "cell_type": "code",
   "execution_count": 6,
   "id": "8861f8d6",
   "metadata": {},
   "outputs": [
    {
     "name": "stdout",
     "output_type": "stream",
     "text": [
      "353\n"
     ]
    }
   ],
   "source": [
    "# 初始化由此開始\n",
    "\n",
    "upper_level = []\n",
    "path = \"url_list.txt\"\n",
    "f = open(path, \"r\",encoding =\"utf-8\")\n",
    "level_0 = f.readlines()\n",
    "for i in level_0:\n",
    "    upper_level.append(i[:-1])\n",
    "\n",
    "upper_level = list(set(upper_level))\n",
    "print(len(upper_level))\n",
    "counter=0"
   ]
  },
  {
   "cell_type": "code",
   "execution_count": 4,
   "id": "96965bbb",
   "metadata": {},
   "outputs": [
    {
     "name": "stdout",
     "output_type": "stream",
     "text": [
      "11788\n",
      "84517\n",
      "448551\n",
      "685202\n",
      "856207\n",
      "1121035\n",
      "1364472\n",
      "1546464\n"
     ]
    }
   ],
   "source": [
    "# 已找過第一層之後需要再執行這一格\n",
    "# 這邊要把前面的所有檔案的網站總數加起來\n",
    "# 算出網站總數之後，可以再做一個變數，只算他們的outlink總和(因為original_url，已經找過了)，這樣也可以優化演算法的速度。\n",
    "\n",
    "\n",
    "csv.field_size_limit(500 * 1024 * 1024)\n",
    "for i in range(8): # 有幾個檔案range裡面就放幾\n",
    "    this_level_total_url_list = []\n",
    "    counter = i\n",
    "    file_name = 'Asynchronous_crawler_level_'+ str((counter+1)) +'.csv' \n",
    "    with open(file_name, newline='', encoding = \"utf-8\") as csvfile:\n",
    "        # 讀取 CSV 檔案內容\n",
    "        rows = csv.reader(csvfile, delimiter=';') # 設定分隔號\n",
    "        for row in rows:\n",
    "            if len(row) == 0: # 空行跳過\n",
    "                continue\n",
    "            if row[0][0:4] == \"http\":\n",
    "                this_level_total_url_list.append(row[0]) # 原始url也要加進去\n",
    "            children_list = str_to_url(row[2]) # 每個url的out_link\n",
    "            for url in children_list:\n",
    "                if url[0:4] == \"http\":\n",
    "                    this_level_total_url_list.append(url)\n",
    "        upper_level += this_level_total_url_list\n",
    "        upper_level = list(set(upper_level))\n",
    "        print(len(upper_level)) # 已經是不重複的了\n",
    "counter += 1 # 為了初始化 "
   ]
  },
  {
   "cell_type": "code",
   "execution_count": 5,
   "id": "e1b46bd0",
   "metadata": {},
   "outputs": [
    {
     "name": "stdout",
     "output_type": "stream",
     "text": [
      "1546464\n",
      "8\n"
     ]
    }
   ],
   "source": [
    "# 再次確認\n",
    "print(len(upper_level))\n",
    "print(counter)"
   ]
  },
  {
   "cell_type": "code",
   "execution_count": 6,
   "id": "42686c4c",
   "metadata": {
    "scrolled": true
   },
   "outputs": [
    {
     "data": {
      "text/plain": [
       "524288000"
      ]
     },
     "execution_count": 6,
     "metadata": {},
     "output_type": "execute_result"
    }
   ],
   "source": [
    "# 先開啟檔案，以便在接下來的非同步協程中寫入\n",
    "# 檔案寫入格式[[\"original_url\",\"parent_links\",\"children_link\",\"auth(int)\",\"hub(int)\"],[以此類推]]\n",
    "# Q：為什麼不加id？ A：因為非同步取下來的網址也是無序的。現在排序沒有意義，到時需要進行二分搜尋法之後再將其排序即可。\n",
    "csv.field_size_limit(500 * 1024 * 1024) # 增加檔案讀取限制。"
   ]
  },
  {
   "cell_type": "code",
   "execution_count": 7,
   "id": "79af590b",
   "metadata": {
    "scrolled": true
   },
   "outputs": [
    {
     "name": "stdout",
     "output_type": "stream",
     "text": [
      "花費:0.0秒\n",
      "timeout! 'utf-8' codec can't decode byte 0xe2 in position 10: invalid continuation byte\n",
      "timeout! \n",
      "timeout! 'utf-8' codec can't decode byte 0xe2 in position 10: invalid continuation byte\n",
      "timeout! \n",
      "timeout! \n",
      "timeout! \n",
      "timeout! 'utf-8' codec can't decode byte 0xff in position 0: invalid start byte\n",
      "timeout! 'utf-8' codec can't decode byte 0x82 in position 16: invalid start byte\n",
      "timeout! 'utf-8' codec can't decode byte 0xc4 in position 10: invalid continuation byte\n",
      "timeout! 'utf-8' codec can't decode byte 0xa1 in position 11: invalid start byte\n",
      "timeout! \n",
      "timeout! 'utf-8' codec can't decode byte 0xe2 in position 10: invalid continuation byte\n",
      "timeout! 'utf-8' codec can't decode byte 0xe2 in position 10: invalid continuation byte\n",
      "timeout! 'utf-8' codec can't decode byte 0xe2 in position 10: invalid continuation byte\n",
      "timeout! 'utf-8' codec can't decode byte 0xe2 in position 10: invalid continuation byte\n",
      "timeout! 'utf-8' codec can't decode byte 0xe2 in position 10: invalid continuation byte\n",
      "timeout! 'utf-8' codec can't decode byte 0xff in position 0: invalid start byte\n",
      "timeout! \n",
      "timeout! 'utf-8' codec can't decode byte 0xe2 in position 10: invalid continuation byte\n",
      "timeout! 'utf-8' codec can't decode byte 0xbd in position 200: invalid start byte\n",
      "timeout! 'utf-8' codec can't decode byte 0xc4 in position 10: invalid continuation byte\n",
      "timeout! 'utf-8' codec can't decode byte 0xb5 in position 11: invalid start byte\n",
      "timeout! 'utf-8' codec can't decode byte 0xa9 in position 9783: invalid start byte\n",
      "timeout! 'utf-8' codec can't decode byte 0xff in position 0: invalid start byte\n",
      "timeout! 'utf-8' codec can't decode byte 0xe2 in position 10: invalid continuation byte\n",
      "timeout! 'utf-8' codec can't decode byte 0x92 in position 555: invalid start byte\n",
      "timeout! \n",
      "timeout! 'utf-8' codec can't decode byte 0xff in position 0: invalid start byte\n",
      "timeout! 'utf-8' codec can't decode byte 0xff in position 0: invalid start byte\n",
      "timeout! \n",
      "timeout! 'utf-8' codec can't decode byte 0x92 in position 7973: invalid start byte\n",
      "timeout! 'utf-8' codec can't decode byte 0xe2 in position 10: invalid continuation byte\n",
      "timeout! 'utf-8' codec can't decode byte 0xff in position 0: invalid start byte\n",
      "timeout! 'utf-8' codec can't decode byte 0xe2 in position 10: invalid continuation byte\n",
      "timeout! 'utf-8' codec can't decode byte 0x89 in position 0: invalid start byte\n",
      "timeout! 'utf-8' codec can't decode byte 0xe2 in position 10: invalid continuation byte\n",
      "timeout! 'utf-8' codec can't decode byte 0xb5 in position 11: invalid start byte\n",
      "timeout! 'utf-8' codec can't decode byte 0xa0 in position 293096: invalid start byte\n",
      "timeout! \n",
      "timeout! 'utf-8' codec can't decode byte 0xb5 in position 11: invalid start byte\n",
      "timeout! 'utf-8' codec can't decode byte 0xe2 in position 10: invalid continuation byte\n",
      "timeout! 'utf-8' codec can't decode byte 0xe2 in position 10: invalid continuation byte\n",
      "timeout! 'utf-8' codec can't decode byte 0xff in position 263: invalid start byte\n",
      "timeout! 'utf-8' codec can't decode byte 0xe2 in position 10: invalid continuation byte\n",
      "timeout! 'utf-8' codec can't decode byte 0xe2 in position 10: invalid continuation byte\n",
      "timeout! 'utf-8' codec can't decode byte 0xe2 in position 10: invalid continuation byte\n",
      "timeout! 'utf-8' codec can't decode byte 0x89 in position 0: invalid start byte\n",
      "timeout! 'utf-8' codec can't decode byte 0xc4 in position 10: invalid continuation byte\n",
      "timeout! 'utf-8' codec can't decode byte 0xf6 in position 10: invalid start byte\n",
      "timeout! 'utf-8' codec can't decode byte 0xe2 in position 10: invalid continuation byte\n",
      "timeout! \n",
      "timeout! 'utf-8' codec can't decode byte 0x81 in position 6339: invalid start byte\n",
      "timeout! 'utf-8' codec can't decode byte 0xe2 in position 10: invalid continuation byte\n",
      "timeout! 'utf-8' codec can't decode byte 0xff in position 0: invalid start byte\n",
      "timeout! 'utf-8' codec can't decode byte 0x96 in position 2673: invalid start byte\n",
      "timeout! 'utf-8' codec can't decode byte 0xb5 in position 11: invalid start byte\n",
      "timeout! \n",
      "timeout! 'utf-8' codec can't decode byte 0x92 in position 2315: invalid start byte\n",
      "timeout! 'utf-8' codec can't decode byte 0xfa in position 45: invalid start byte\n",
      "timeout! 'utf-8' codec can't decode byte 0xe2 in position 10: invalid continuation byte\n",
      "timeout! 'utf-8' codec can't decode byte 0xe2 in position 10: invalid continuation byte\n",
      "timeout! 'utf-8' codec can't decode byte 0xc9 in position 7696: invalid continuation byte\n",
      "timeout! 'utf-8' codec can't decode byte 0x82 in position 136: invalid start byte\n",
      "timeout! 'utf-8' codec can't decode byte 0xe2 in position 10: invalid continuation byte\n",
      "timeout! 'utf-8' codec can't decode byte 0xe9 in position 24198: invalid continuation byte\n",
      "timeout! 'utf-8' codec can't decode byte 0xe9 in position 61: invalid continuation byte\n",
      "timeout! 'utf-8' codec can't decode byte 0xc7 in position 10: invalid continuation byte\n",
      "timeout! \n",
      "timeout! 'utf-8' codec can't decode byte 0xff in position 0: invalid start byte\n",
      "timeout! 'utf-8' codec can't decode byte 0xa1 in position 11: invalid start byte\n",
      "timeout! 'utf-8' codec can't decode byte 0xe2 in position 10: invalid continuation byte\n",
      "timeout! \n",
      "timeout! \n",
      "timeout! 'utf-8' codec can't decode byte 0xe4 in position 990: invalid continuation byte\n",
      "timeout! \n",
      "timeout! 'utf-8' codec can't decode byte 0xb5 in position 11: invalid start byte\n",
      "timeout! 'utf-8' codec can't decode byte 0xe2 in position 10: invalid continuation byte\n",
      "timeout! 'utf-8' codec can't decode byte 0xe2 in position 10: invalid continuation byte\n",
      "timeout! 'utf-8' codec can't decode byte 0xd3 in position 10: invalid continuation byte\n",
      "timeout! 'utf-8' codec can't decode byte 0xb5 in position 11: invalid start byte\n",
      "timeout! 'utf-8' codec can't decode byte 0xb5 in position 11: invalid start byte\n",
      "timeout! \n",
      "timeout! 'utf-8' codec can't decode byte 0x89 in position 0: invalid start byte\n",
      "timeout! \n",
      "timeout! 'utf-8' codec can't decode byte 0xf1 in position 7049: invalid continuation byte\n",
      "timeout! \n",
      "timeout! 'utf-8' codec can't decode byte 0xe4 in position 59288: invalid continuation byte\n",
      "timeout! 'utf-8' codec can't decode byte 0xa7 in position 246: invalid start byte\n",
      "timeout! 'utf-8' codec can't decode byte 0xff in position 44: invalid start byte\n",
      "timeout! 'utf-8' codec can't decode byte 0xe2 in position 10: invalid continuation byte\n",
      "timeout! 'utf-8' codec can't decode byte 0xe2 in position 10: invalid continuation byte\n",
      "timeout! 'utf-8' codec can't decode byte 0xa3 in position 19416: invalid start byte\n",
      "timeout! \n",
      "timeout! 'utf-8' codec can't decode byte 0xff in position 0: invalid start byte\n",
      "timeout! 'utf-8' codec can't decode byte 0x89 in position 0: invalid start byte\n",
      "timeout! \n",
      "timeout! 'utf-8' codec can't decode byte 0xc5 in position 126667: invalid continuation byte\n",
      "timeout! 'utf-8' codec can't decode byte 0xa9 in position 406: invalid start byte\n",
      "timeout! 'utf-8' codec can't decode byte 0xd3 in position 10: invalid continuation byte\n",
      "timeout! 'utf-8' codec can't decode byte 0xb5 in position 11: invalid start byte\n",
      "timeout! 'utf-8' codec can't decode byte 0xff in position 0: invalid start byte\n",
      "timeout! 'utf-8' codec can't decode byte 0xb5 in position 11: invalid start byte\n",
      "timeout! 'utf-8' codec can't decode byte 0xb5 in position 11: invalid start byte\n",
      "timeout! \n",
      "timeout! 'utf-8' codec can't decode byte 0xe2 in position 10: invalid continuation byte\n",
      "timeout! 'utf-8' codec can't decode byte 0xa9 in position 9378: invalid start byte\n",
      "timeout! 'utf-8' codec can't decode byte 0xb5 in position 11: invalid start byte\n",
      "timeout! \n",
      "timeout! 'utf-8' codec can't decode byte 0xe2 in position 10: invalid continuation byte\n",
      "timeout! 'utf-8' codec can't decode byte 0xc4 in position 10: invalid continuation byte\n",
      "timeout! 'utf-8' codec can't decode byte 0xff in position 0: invalid start byte\n",
      "timeout! 'utf-8' codec can't decode byte 0xc4 in position 10: invalid continuation byte\n",
      "timeout! 'utf-8' codec can't decode byte 0xe2 in position 10: invalid continuation byte\n",
      "timeout! 'utf-8' codec can't decode byte 0xe1 in position 189: invalid continuation byte\n",
      "timeout! 'utf-8' codec can't decode byte 0xb5 in position 11: invalid start byte\n",
      "timeout! 'utf-8' codec can't decode byte 0xe2 in position 10: invalid continuation byte\n"
     ]
    },
    {
     "name": "stdout",
     "output_type": "stream",
     "text": [
      "timeout! 'utf-8' codec can't decode byte 0xff in position 0: invalid start byte\n",
      "timeout! 'utf-8' codec can't decode byte 0x83 in position 147: invalid start byte\n",
      "timeout! 'utf-8' codec can't decode byte 0xc4 in position 10: invalid continuation byte\n",
      "timeout! Timeout on reading data from socket\n",
      "timeout! 'utf-8' codec can't decode byte 0x80 in position 10: invalid start byte\n",
      "timeout! 'utf-8' codec can't decode byte 0xe2 in position 10: invalid continuation byte\n",
      "timeout! 'utf-8' codec can't decode byte 0xe2 in position 10: invalid continuation byte\n",
      "timeout! 'utf-8' codec can't decode byte 0xb5 in position 11: invalid start byte\n",
      "timeout! 'utf-8' codec can't decode byte 0xc7 in position 88: invalid continuation byte\n",
      "timeout! 'utf-8' codec can't decode byte 0xb5 in position 11: invalid start byte\n",
      "timeout! 'utf-8' codec can't decode byte 0xff in position 0: invalid start byte\n",
      "timeout! 'utf-8' codec can't decode byte 0xe2 in position 10: invalid continuation byte\n",
      "timeout! 'utf-8' codec can't decode bytes in position 115518-115519: invalid continuation byte\n",
      "timeout! 'utf-8' codec can't decode byte 0xe1 in position 4253: invalid continuation byte\n",
      "timeout! 'utf-8' codec can't decode byte 0xe9 in position 58: invalid continuation byte\n",
      "timeout! 'utf-8' codec can't decode byte 0xb5 in position 11: invalid start byte\n",
      "timeout! \n",
      "timeout! \n",
      "timeout! 'utf-8' codec can't decode byte 0xe2 in position 10: invalid continuation byte\n",
      "timeout! 'utf-8' codec can't decode byte 0xff in position 0: invalid start byte\n",
      "timeout! 'utf-8' codec can't decode byte 0xe2 in position 10: invalid continuation byte\n",
      "timeout! 'utf-8' codec can't decode byte 0xe2 in position 11: invalid continuation byte\n",
      "timeout! 'utf-8' codec can't decode byte 0xc3 in position 9601: invalid continuation byte\n",
      "timeout! 'utf-8' codec can't decode byte 0xe2 in position 10: invalid continuation byte\n",
      "timeout! 'utf-8' codec can't decode byte 0xad in position 90379: invalid start byte\n",
      "timeout! 'utf-8' codec can't decode byte 0xb5 in position 11: invalid start byte\n",
      "timeout! 'utf-8' codec can't decode byte 0xe1 in position 19160: invalid continuation byte\n",
      "timeout! 'utf-8' codec can't decode byte 0xb5 in position 11: invalid start byte\n",
      "timeout! 'utf-8' codec can't decode byte 0xe2 in position 10: invalid continuation byte\n",
      "timeout! 'utf-8' codec can't decode byte 0x92 in position 56155: invalid start byte\n",
      "timeout! 'utf-8' codec can't decode byte 0xe2 in position 10: invalid continuation byte\n",
      "timeout! 'utf-8' codec can't decode byte 0xa6 in position 10: invalid start byte\n",
      "timeout! 'utf-8' codec can't decode byte 0xe2 in position 10: invalid continuation byte\n",
      "timeout! 'utf-8' codec can't decode byte 0xe2 in position 10: invalid continuation byte\n"
     ]
    },
    {
     "name": "stderr",
     "output_type": "stream",
     "text": [
      "Can not load response cookies: Illegal key 'balancer://npop4cluster'\n"
     ]
    },
    {
     "name": "stdout",
     "output_type": "stream",
     "text": [
      "timeout! 'utf-8' codec can't decode byte 0xe2 in position 10: invalid continuation byte\n",
      "timeout! \n",
      "timeout! 'utf-8' codec can't decode byte 0xe2 in position 10: invalid continuation byte\n",
      "timeout! 'utf-8' codec can't decode byte 0xe2 in position 10: invalid continuation byte\n",
      "timeout! 'utf-8' codec can't decode byte 0xff in position 0: invalid start byte\n",
      "timeout! \n",
      "timeout! 'utf-8' codec can't decode byte 0xe2 in position 10: invalid continuation byte\n",
      "timeout! 'utf-8' codec can't decode byte 0xe2 in position 10: invalid continuation byte\n",
      "timeout! 'utf-8' codec can't decode byte 0xb5 in position 11: invalid start byte\n",
      "timeout! \n",
      "timeout! 'utf-8' codec can't decode byte 0xb5 in position 11: invalid start byte\n",
      "timeout! 'utf-8' codec can't decode byte 0xe2 in position 10: invalid continuation byte\n",
      "timeout! 'utf-8' codec can't decode byte 0xe2 in position 10: invalid continuation byte\n",
      "timeout! 'utf-8' codec can't decode byte 0xe2 in position 10: invalid continuation byte\n",
      "timeout! 'utf-8' codec can't decode byte 0xc4 in position 10: invalid continuation byte\n",
      "timeout! 'utf-8' codec can't decode byte 0xe2 in position 10: invalid continuation byte\n",
      "timeout! 'utf-8' codec can't decode byte 0xff in position 0: invalid start byte\n",
      "timeout! 'utf-8' codec can't decode byte 0xe2 in position 10: invalid continuation byte\n",
      "timeout! \n",
      "timeout! 'utf-8' codec can't decode byte 0xa8 in position 10: invalid start byte\n",
      "timeout! 'utf-8' codec can't decode byte 0xff in position 0: invalid start byte\n",
      "timeout! 'utf-8' codec can't decode byte 0xe2 in position 10: invalid continuation byte\n",
      "timeout! 'utf-8' codec can't decode byte 0xb5 in position 11: invalid start byte\n",
      "timeout! 'utf-8' codec can't decode byte 0x9d in position 6875: invalid start byte\n",
      "timeout! \n",
      "timeout! 'utf-8' codec can't decode byte 0xe2 in position 10: invalid continuation byte\n",
      "timeout! \n",
      "timeout! 'utf-8' codec can't decode byte 0xe2 in position 10: invalid continuation byte\n",
      "timeout! 'utf-8' codec can't decode byte 0xb5 in position 11: invalid start byte\n",
      "timeout! \n",
      "timeout! 'utf-8' codec can't decode byte 0xc3 in position 102241: invalid continuation byte\n",
      "timeout! 'utf-8' codec can't decode byte 0xe2 in position 10: invalid continuation byte\n",
      "timeout! 'utf-8' codec can't decode byte 0xff in position 0: invalid start byte\n",
      "timeout! 'utf-8' codec can't decode byte 0xe1 in position 301: invalid continuation byte\n",
      "timeout! 'utf-8' codec can't decode byte 0xe9 in position 3456: invalid continuation byte\n",
      "timeout! 'utf-8' codec can't decode byte 0xe2 in position 10: invalid continuation byte\n",
      "timeout! 'utf-8' codec can't decode byte 0xa1 in position 11: invalid start byte\n",
      "timeout! 'utf-8' codec can't decode byte 0xa4 in position 315: invalid start byte\n",
      "timeout! 'utf-8' codec can't decode byte 0xfc in position 201: invalid start byte\n",
      "timeout! 'utf-8' codec can't decode byte 0xc9 in position 23: invalid continuation byte\n",
      "timeout! 'utf-8' codec can't decode byte 0xe2 in position 10: invalid continuation byte\n",
      "timeout! \n",
      "timeout! 'utf-8' codec can't decode byte 0xe2 in position 10: invalid continuation byte\n",
      "timeout! \n",
      "timeout! 'utf-8' codec can't decode byte 0xa0 in position 1776: invalid start byte\n",
      "timeout! 'utf-8' codec can't decode byte 0xe2 in position 10: invalid continuation byte\n",
      "timeout! 'utf-8' codec can't decode byte 0xe2 in position 10: invalid continuation byte\n",
      "timeout! \n",
      "timeout! \n",
      "timeout! 'utf-8' codec can't decode byte 0xb5 in position 11: invalid start byte\n",
      "timeout! \n",
      "timeout! 'utf-8' codec can't decode bytes in position 875-876: invalid continuation byte\n",
      "timeout! 'utf-8' codec can't decode byte 0xb5 in position 11: invalid start byte\n",
      "timeout! 'utf-8' codec can't decode byte 0xe2 in position 10: invalid continuation byte\n",
      "timeout! 'utf-8' codec can't decode byte 0xff in position 0: invalid start byte\n"
     ]
    },
    {
     "name": "stderr",
     "output_type": "stream",
     "text": [
      "Can not load response cookies: Illegal key 'session-/Common/VIP_ePUAP_PRD_WEB-443'\n"
     ]
    },
    {
     "name": "stdout",
     "output_type": "stream",
     "text": [
      "timeout! 'utf-8' codec can't decode byte 0xe2 in position 10: invalid continuation byte\n",
      "timeout! 'utf-8' codec can't decode byte 0x89 in position 0: invalid start byte\n",
      "timeout! 'utf-8' codec can't decode byte 0xf3 in position 858: invalid continuation byte\n"
     ]
    },
    {
     "name": "stderr",
     "output_type": "stream",
     "text": [
      "Can not load response cookies: Illegal key '/cstbwlogo'\n"
     ]
    },
    {
     "name": "stdout",
     "output_type": "stream",
     "text": [
      "timeout! 'utf-8' codec can't decode byte 0xe2 in position 10: invalid continuation byte\n",
      "timeout! \n",
      "timeout! 'utf-8' codec can't decode byte 0xb5 in position 11: invalid start byte\n",
      "timeout! 'utf-8' codec can't decode byte 0x84 in position 14: invalid start byte\n",
      "timeout! 'utf-8' codec can't decode byte 0xea in position 19778: invalid continuation byte\n",
      "timeout! 'utf-8' codec can't decode byte 0xe2 in position 10: invalid continuation byte\n",
      "timeout! 'utf-8' codec can't decode byte 0xe2 in position 10: invalid continuation byte\n",
      "timeout! 'utf-8' codec can't decode byte 0xff in position 0: invalid start byte\n",
      "timeout! 'utf-8' codec can't decode byte 0xcd in position 299: invalid continuation byte\n",
      "timeout! 'utf-8' codec can't decode byte 0xff in position 0: invalid start byte\n",
      "timeout! 'utf-8' codec can't decode byte 0xc1 in position 69: invalid start byte\n",
      "timeout! 'utf-8' codec can't decode byte 0xe2 in position 10: invalid continuation byte\n",
      "timeout! 'utf-8' codec can't decode byte 0x99 in position 3196: invalid start byte\n",
      "timeout! \n",
      "timeout! 'utf-8' codec can't decode byte 0xe9 in position 673: invalid continuation byte\n",
      "timeout! \n",
      "timeout! 'utf-8' codec can't decode byte 0xff in position 0: invalid start byte\n",
      "timeout! 'utf-8' codec can't decode byte 0xe2 in position 10: invalid continuation byte\n",
      "timeout! 'utf-8' codec can't decode byte 0x8b in position 1: invalid start byte\n",
      "timeout! 'utf-8' codec can't decode byte 0xe2 in position 10: invalid continuation byte\n",
      "timeout! 'utf-8' codec can't decode byte 0xe2 in position 10: invalid continuation byte\n",
      "timeout! 'utf-8' codec can't decode byte 0x89 in position 0: invalid start byte\n",
      "timeout! 'utf-8' codec can't decode byte 0xf7 in position 10: invalid start byte\n",
      "timeout! 'utf-8' codec can't decode byte 0xe2 in position 10: invalid continuation byte\n",
      "timeout! 'utf-8' codec can't decode byte 0xe2 in position 10: invalid continuation byte\n",
      "timeout! 'utf-8' codec can't decode byte 0xe2 in position 10: invalid continuation byte\n",
      "timeout! 'utf-8' codec can't decode byte 0xe2 in position 10: invalid continuation byte\n",
      "timeout! 'utf-8' codec can't decode byte 0xf5 in position 1889: invalid start byte\n"
     ]
    },
    {
     "name": "stderr",
     "output_type": "stream",
     "text": [
      "Can not load response cookies: Illegal key '@ecoboost-cooc_web'\n",
      "Can not load response cookies: Illegal key '@ecoboost-cooc_web.sig'\n"
     ]
    },
    {
     "name": "stdout",
     "output_type": "stream",
     "text": [
      "timeout! 'utf-8' codec can't decode byte 0xe2 in position 10: invalid continuation byte\n",
      "timeout! 'utf-8' codec can't decode byte 0xe2 in position 10: invalid continuation byte\n",
      "timeout! 'utf-8' codec can't decode byte 0xf3 in position 235: invalid continuation byte\n",
      "timeout! 'utf-8' codec can't decode byte 0xe2 in position 10: invalid continuation byte\n",
      "timeout! 'utf-8' codec can't decode byte 0xa0 in position 865: invalid start byte\n",
      "timeout! 'utf-8' codec can't decode byte 0xff in position 0: invalid start byte\n",
      "timeout! 'utf-8' codec can't decode byte 0xb5 in position 11: invalid start byte\n",
      "timeout! 'utf-8' codec can't decode byte 0xe2 in position 10: invalid continuation byte\n",
      "timeout! 'utf-8' codec can't decode byte 0x80 in position 7504: invalid start byte\n",
      "timeout! 'utf-8' codec can't decode byte 0xe2 in position 10: invalid continuation byte\n",
      "timeout! 'utf-8' codec can't decode byte 0xc4 in position 10: invalid continuation byte\n",
      "timeout! 'utf-8' codec can't decode byte 0xe2 in position 10: invalid continuation byte\n",
      "timeout! 'utf-8' codec can't decode byte 0xa0 in position 3236: invalid start byte\n",
      "timeout! 'utf-8' codec can't decode byte 0xb5 in position 11: invalid start byte\n",
      "timeout! 'utf-8' codec can't decode byte 0xe1 in position 218: invalid continuation byte\n",
      "timeout! 'utf-8' codec can't decode byte 0xa0 in position 8737: invalid start byte\n",
      "timeout! 'utf-8' codec can't decode byte 0xe2 in position 10: invalid continuation byte\n",
      "timeout! 'utf-8' codec can't decode byte 0x89 in position 0: invalid start byte\n",
      "timeout! 'utf-8' codec can't decode byte 0xbb in position 216: invalid start byte\n",
      "timeout! 'utf-8' codec can't decode byte 0xe1 in position 306: invalid continuation byte\n",
      "timeout! 'utf-8' codec can't decode byte 0xfc in position 89: invalid start byte\n",
      "timeout! 'utf-8' codec can't decode byte 0xfc in position 1352: invalid start byte\n",
      "timeout! 'utf-8' codec can't decode byte 0xe2 in position 10: invalid continuation byte\n",
      "timeout! 'utf-8' codec can't decode byte 0xe2 in position 10: invalid continuation byte\n",
      "timeout! 'utf-8' codec can't decode byte 0xd0 in position 10: invalid continuation byte\n",
      "timeout! 'utf-8' codec can't decode byte 0x92 in position 1477: invalid start byte\n",
      "timeout! 'utf-8' codec can't decode byte 0xe2 in position 10: invalid continuation byte\n",
      "timeout! 'utf-8' codec can't decode byte 0x8e in position 154: invalid start byte\n",
      "timeout! \n",
      "timeout! \n",
      "timeout! \n",
      "timeout! \n",
      "timeout! 'utf-8' codec can't decode byte 0xe2 in position 10: invalid continuation byte\n",
      "timeout! 'utf-8' codec can't decode byte 0xb1 in position 15353: invalid start byte\n",
      "timeout! 'utf-8' codec can't decode byte 0xe1 in position 4277: invalid continuation byte\n",
      "timeout! 'utf-8' codec can't decode byte 0xb7 in position 679: invalid start byte\n",
      "timeout! 'utf-8' codec can't decode byte 0x8b in position 309: invalid start byte\n",
      "timeout! 'utf-8' codec can't decode byte 0x89 in position 0: invalid start byte\n",
      "timeout! 'utf-8' codec can't decode byte 0xc3 in position 1103: invalid continuation byte\n",
      "timeout! 'utf-8' codec can't decode byte 0xe2 in position 10: invalid continuation byte\n",
      "timeout! 'utf-8' codec can't decode byte 0xc7 in position 10: invalid continuation byte\n",
      "timeout! 'utf-8' codec can't decode byte 0xe2 in position 10: invalid continuation byte\n",
      "timeout! \n",
      "timeout! 'utf-8' codec can't decode byte 0xb5 in position 11: invalid start byte\n",
      "timeout! 'utf-8' codec can't decode byte 0xe2 in position 10: invalid continuation byte\n",
      "timeout! 'utf-8' codec can't decode byte 0x89 in position 0: invalid start byte\n",
      "timeout! 'utf-8' codec can't decode byte 0xbd in position 37836: invalid start byte\n",
      "timeout! 'utf-8' codec can't decode byte 0xe2 in position 10: invalid continuation byte\n",
      "timeout! 'utf-8' codec can't decode byte 0xff in position 0: invalid start byte\n",
      "timeout! 'utf-8' codec can't decode byte 0xc8 in position 10: invalid continuation byte\n",
      "timeout! 'utf-8' codec can't decode byte 0xf5 in position 144: invalid start byte\n",
      "timeout! 'utf-8' codec can't decode byte 0xf3 in position 26: invalid continuation byte\n",
      "timeout! 'utf-8' codec can't decode byte 0xe2 in position 10: invalid continuation byte\n",
      "timeout! 'utf-8' codec can't decode byte 0xf3 in position 237: invalid continuation byte\n",
      "timeout! 'utf-8' codec can't decode byte 0xe2 in position 10: invalid continuation byte\n",
      "timeout! 'utf-8' codec can't decode byte 0xe9 in position 243: invalid continuation byte\n",
      "timeout! \n",
      "timeout! 'utf-8' codec can't decode byte 0xe2 in position 10: invalid continuation byte\n",
      "timeout! 'utf-8' codec can't decode byte 0xf3 in position 2468: invalid continuation byte\n",
      "timeout! 'utf-8' codec can't decode byte 0xe2 in position 10: invalid continuation byte\n",
      "timeout! 'utf-8' codec can't decode byte 0x89 in position 0: invalid start byte\n",
      "timeout! \n",
      "timeout! 'utf-8' codec can't decode byte 0xb5 in position 11: invalid start byte\n",
      "timeout! 'utf-8' codec can't decode byte 0xe2 in position 10: invalid continuation byte\n",
      "timeout! 'utf-8' codec can't decode byte 0xe4 in position 533: invalid continuation byte\n"
     ]
    },
    {
     "name": "stderr",
     "output_type": "stream",
     "text": [
      "Can not load response cookies: Illegal key 'BIGipServeru9i1psLU3UyBq7wCJpg/ng'\n",
      "Can not load response cookies: Illegal key 'UqZBpD3n3iPIDwJU9By2pjPPHalbrNQFIY2U9dPa+DPNGV4@'\n"
     ]
    },
    {
     "name": "stdout",
     "output_type": "stream",
     "text": [
      "timeout! 'utf-8' codec can't decode byte 0xe2 in position 10: invalid continuation byte\n",
      "timeout! 'utf-8' codec can't decode byte 0xe2 in position 10: invalid continuation byte\n",
      "timeout! 'utf-8' codec can't decode byte 0xb0 in position 1635: invalid start byte\n",
      "timeout! 'utf-8' codec can't decode byte 0xe2 in position 10: invalid continuation byte\n",
      "timeout! 'utf-8' codec can't decode byte 0xff in position 0: invalid start byte\n",
      "timeout! 'utf-8' codec can't decode byte 0xe1 in position 364: invalid continuation byte\n",
      "timeout! 'utf-8' codec can't decode byte 0xa7 in position 246: invalid start byte\n",
      "timeout! \n",
      "timeout! 'utf-8' codec can't decode byte 0xe9 in position 23626: invalid continuation byte\n",
      "timeout! \n",
      "timeout! 'utf-8' codec can't decode byte 0xed in position 148: invalid continuation byte\n",
      "timeout! 'utf-8' codec can't decode byte 0xe2 in position 10: invalid continuation byte\n",
      "timeout! 'utf-8' codec can't decode byte 0xff in position 0: invalid start byte\n",
      "timeout! 'utf-8' codec can't decode byte 0xf4 in position 22150: invalid continuation byte\n",
      "timeout! 'utf-8' codec can't decode bytes in position 6941-6942: invalid continuation byte\n",
      "timeout! 'utf-8' codec can't decode byte 0x89 in position 0: invalid start byte\n",
      "timeout! \n",
      "timeout! \n",
      "timeout! 'utf-8' codec can't decode byte 0xb5 in position 11: invalid start byte\n",
      "timeout! 'utf-8' codec can't decode byte 0xec in position 10: invalid continuation byte\n",
      "timeout! 'utf-8' codec can't decode byte 0x93 in position 14: invalid start byte\n",
      "timeout! 'utf-8' codec can't decode byte 0xe2 in position 10: invalid continuation byte\n",
      "timeout! 'utf-8' codec can't decode byte 0xcd in position 103: invalid continuation byte\n",
      "timeout! 'utf-8' codec can't decode byte 0xb5 in position 11: invalid start byte\n",
      "timeout! 'utf-8' codec can't decode byte 0xe0 in position 5794: invalid continuation byte\n",
      "timeout! \n",
      "timeout! 'utf-8' codec can't decode byte 0xe2 in position 10: invalid continuation byte\n",
      "timeout! 'utf-8' codec can't decode byte 0xe2 in position 10: invalid continuation byte\n",
      "timeout! 'utf-8' codec can't decode byte 0xe2 in position 10: invalid continuation byte\n",
      "timeout! 'utf-8' codec can't decode byte 0xb5 in position 11: invalid start byte\n",
      "timeout! 'utf-8' codec can't decode byte 0xd0 in position 0: invalid continuation byte\n",
      "timeout! 'utf-8' codec can't decode byte 0xe2 in position 10: invalid continuation byte\n",
      "timeout! 'utf-8' codec can't decode byte 0xff in position 0: invalid start byte\n",
      "timeout! 'utf-8' codec can't decode byte 0xe2 in position 10: invalid continuation byte\n",
      "timeout! 'utf-8' codec can't decode bytes in position 5611-5612: invalid continuation byte\n",
      "timeout! 'utf-8' codec can't decode byte 0xff in position 0: invalid start byte\n",
      "timeout! 'utf-8' codec can't decode byte 0xb5 in position 11: invalid start byte\n"
     ]
    },
    {
     "name": "stderr",
     "output_type": "stream",
     "text": [
      "Can not load response cookies: Illegal key 'session-/Common/VIP_ePUAP_PRD_WEB-443'\n"
     ]
    },
    {
     "name": "stdout",
     "output_type": "stream",
     "text": [
      "timeout! \n",
      "timeout! 'utf-8' codec can't decode byte 0xff in position 0: invalid start byte\n",
      "timeout! \n",
      "timeout! \n",
      "timeout! \n",
      "timeout! 'utf-8' codec can't decode byte 0xe2 in position 10: invalid continuation byte\n",
      "timeout! \n",
      "timeout! \n",
      "timeout! 'utf-8' codec can't decode byte 0xe2 in position 10: invalid continuation byte\n",
      "timeout! 'utf-8' codec can't decode byte 0xb5 in position 11: invalid start byte\n",
      "timeout! 'utf-8' codec can't decode byte 0xb5 in position 11: invalid start byte\n",
      "timeout! 'utf-8' codec can't decode byte 0xe2 in position 10: invalid continuation byte\n",
      "timeout! \n",
      "timeout! 'utf-8' codec can't decode byte 0xe2 in position 10: invalid continuation byte\n"
     ]
    },
    {
     "name": "stderr",
     "output_type": "stream",
     "text": [
      "Can not load response cookies: Illegal key 'session-/Common/VIP_ePUAP_PRD_WEB-443'\n"
     ]
    },
    {
     "name": "stdout",
     "output_type": "stream",
     "text": [
      "timeout! 'utf-8' codec can't decode byte 0xe2 in position 10: invalid continuation byte\n",
      "timeout! 'utf-8' codec can't decode byte 0xe2 in position 10: invalid continuation byte\n",
      "timeout! \n",
      "timeout! 'utf-8' codec can't decode byte 0xe2 in position 10: invalid continuation byte\n",
      "花費:5219.921558856964秒\n"
     ]
    }
   ],
   "source": [
    "# Step1\n",
    "# 前面這邊每一層要手動修改\n",
    "tmp_level = this_level_total_url_list  # 1110204 更動 只找那一層的outlink\n",
    "level_name = 'Asynchronous_crawler_level_'+ str((counter+1)) +'.csv' # 這一層要新創的檔案的名字 # csv 檔案\n",
    "# 作假標頭\n",
    "ua = UserAgent()\n",
    "# 設定參數\n",
    "headers = {'User-Agent': ua.random}\n",
    "connector = aiohttp.TCPConnector(limit = 600, ssl=False) # 設定最大連線數量 #1110102 跟改限制為0 (也就是不做限制)\n",
    "timeout =  aiohttp.ClientTimeout(total = 30000*(counter+1), connect = 3600, # total時間要隨網站數量不同而變動\n",
    "                      sock_connect=3 , sock_read=3) # 1110102發現，原本預設情況下\n",
    "                                              # aiohttp 使用總共 300 秒（5 分鐘）的超時時間，這意味著整個操作應該在 5 分鐘內完成。\n",
    "                                              # 與我發現真實情況相符\n",
    "                                              # 故我猜測此即為有些request無法完成就中斷的原因\n",
    "                                              # 1110102將timeout 參數設為 32400 秒，9小時，以令程式盡量全部收到回應。\n",
    "                                              # connect=300，300秒沒過就time out。\n",
    "# 整理解釋 aiohttp.ClientTimeout 裡面的參數\n",
    "# 1. total: 總協程執行時間。\n",
    "# 2. connect ： 如果超過池(pool)連接限制，則連接建立新連接或等待來自池的空閒連接的最大秒數。\n",
    "#    (問題：如果pool一直都是被占滿，這樣新建連接要刪除pool中的哪個網址？)\n",
    "#    (目前解決方法：設定sock_connect的時間比connect的時間短，這樣會先結束長時間無回應的網站，pool就不會誤刪。\n",
    "# 3. sock_connect：The maximal number of seconds for connecting to a peer for a new connection, not given from a pool.\n",
    "    #(這邊我的理解為給一個新的連接\"最多的\"時間限制。)\n",
    "# 4. sock_read： 讀取網頁資料的最大時間限制(我們這邊都只需要讀網址)，故時間讀取時間應該都很小，故保持預設時間即可\n",
    "start_time = time.time()  #開始執行時間\n",
    "loop = asyncio.get_event_loop()  #建立事件迴圈(Event Loop)\n",
    "loop.create_task(main(level_name,connector,timeout))  #執行協程(coroutine)\n",
    "print(\"花費:\" + str(float(time.time() - start_time)) + \"秒\")\n",
    "\n",
    "# Note: 甚麼時候可以結束？\n",
    "# 當有輸出txt檔案時代表此cell已經跑完了，可以進行下一步驟。"
   ]
  },
  {
   "cell_type": "code",
   "execution_count": 8,
   "id": "09d7c02e",
   "metadata": {
    "scrolled": false
   },
   "outputs": [
    {
     "data": {
      "text/plain": [
       "1546464"
      ]
     },
     "execution_count": 8,
     "metadata": {},
     "output_type": "execute_result"
    }
   ],
   "source": [
    "len(upper_level) # P.S.有重複網站的長度"
   ]
  },
  {
   "cell_type": "code",
   "execution_count": 9,
   "id": "7720c878",
   "metadata": {},
   "outputs": [
    {
     "data": {
      "text/plain": [
       "'Asynchronous_crawler_level_9.csv'"
      ]
     },
     "execution_count": 9,
     "metadata": {},
     "output_type": "execute_result"
    }
   ],
   "source": [
    "level_name"
   ]
  },
  {
   "cell_type": "code",
   "execution_count": 8,
   "id": "f59c823d",
   "metadata": {},
   "outputs": [],
   "source": [
    "counter = 0\n",
    "level_name = 'Asynchronous_crawler_level_'+ str((counter+1)) +'.csv' "
   ]
  },
  {
   "cell_type": "code",
   "execution_count": 11,
   "id": "a50d6bbe",
   "metadata": {
    "scrolled": false
   },
   "outputs": [
    {
     "name": "stdout",
     "output_type": "stream",
     "text": [
      "此層增加網站重複總數 17679\n",
      "此層增加網站'不'重複總數 11719\n",
      "總網站不重複個數 11788\n",
      "不重複網站增加百分比 3339.376770538244 %\n",
      "花費:0.03200793266296387秒\n"
     ]
    }
   ],
   "source": [
    "# step_2\n",
    "\n",
    "# 目標：製作記錄檔以及檢查threshold有沒有達成(增加的網站是否少於總可用網站的10%，若是有則停止)\n",
    "# 讀csv檔案，並以此製作紀錄檔。\n",
    "start_time = time.time()  #開始執行時間\n",
    "csv.field_size_limit(500 * 1024 * 1024)\n",
    "this_level_total_url_list = [] # 重置  this_level_total_url_list\n",
    "\n",
    "with open(level_name, newline='', encoding = \"utf-8\") as csvfile:\n",
    "    # 讀取 CSV 檔案內容\n",
    "    rows = csv.reader(csvfile, delimiter=';') # 設定分隔號\n",
    "    # 以迴圈檢查檢查前11筆\n",
    "    #count = 0\n",
    "    for row in rows:\n",
    "        #if count == 11: \n",
    "        #    break\n",
    "        #print(row)\n",
    "        if len(row) == 0: # 空行跳過\n",
    "            continue\n",
    "        #print(type(row)) # <class 'list'>\\n\",\n",
    "        #print(row[0]) # <class 'str'> # original url\n",
    "        if row[0][0:4] == \"http\":\n",
    "            this_level_total_url_list.append(row[0]) # 原始url也要加進去\n",
    "        #print(row[1]) # <class 'str'> # parent list\n",
    "        #print(row[2]) # <class 'str'> # children list\n",
    "        # 將所有children_list 整合以計算數量丟出。\n",
    "        children_list = str_to_url(row[2])\n",
    "        for url in children_list:\n",
    "            if url[0:4] == \"http\":\n",
    "                this_level_total_url_list.append(url)\n",
    "        #print(row[3]) # <class 'str'> # auth score\n",
    "        #print(row[4]) # <class 'str'> # hub score\n",
    "        #count += 1\n",
    "note_path = 'level' + str((counter+1)) + 'Note.txt'\n",
    "fn = open(note_path, 'w' , encoding='UTF-8')\n",
    "\n",
    "\n",
    "print(\"此層增加網站重複總數\",len(this_level_total_url_list))\n",
    "print(\"此層增加網站重複總數\",len(this_level_total_url_list), file = fn)\n",
    "this_level_total_url_set_list = list(set(this_level_total_url_list))\n",
    "print(\"此層增加網站'不'重複總數\", len(this_level_total_url_set_list))\n",
    "print(\"此層增加網站'不'重複總數\", len(this_level_total_url_set_list), file = fn)\n",
    "total_len = this_level_total_url_list + upper_level # 這一層加上一層 # 這邊就是上面的upper_level\n",
    "total_len = list(set(total_len)) # 去重複\n",
    "print(\"總網站不重複個數\", len(total_len))\n",
    "print(\"總網站不重複個數\", len(total_len), file = fn)\n",
    "# 只計算這一層而已，還需要跟前一層的總數加起來比較才知道有沒有到達threshold\n",
    "# 再製作不重複網站增加百分比\n",
    "print(\"不重複網站增加百分比\", (  len(total_len) / len(upper_level)  ) * 100 , \"%\" )\n",
    "print(\"不重複網站增加百分比\", (  len(total_len) / len(upper_level)  ) * 100 , \"%\"  , file = fn) # 這邊要去讀上一個note的總數\n",
    "print(\"花費:\" + str(float(time.time() - start_time)) + \"秒\")\n",
    "\n",
    "\n",
    "\n",
    "\n",
    "\n",
    "\n",
    "\n",
    "# P.S.\n",
    "# 但是！！！發現一個問題，0203這天發現有記憶體短缺現象，故中途重啟，發現這行程式碼在中斷之後重啟會有問題。\n",
    "# 因為目前upper_level的總數為\"上一層讀取得條列數目\"，我並沒有保留\"所有的網站記錄\"，故前幾層很有可能新的不重複的網站\n",
    "# 目前在level_note 4之前的檔案接正確，因為在其之前的網站皆是由下列\n",
    "# upper_level = total_len 繼承其變數，直到level_4 之前，都是連續執行並未中斷。\n",
    "# 故total_len 唯一個擁有全部不重複全部網站的變數\n",
    "# 目前解決方法： 需要將所有不重複的變數引用出(也就是total_len，其實已經存在在csv檔中)\n",
    "# 基於此判斷，我需要將每一層的檔案都讀取進入。\n",
    "print(\"花費:\" + str(float(time.time() - start_time)) + \"秒\" , file = fn)"
   ]
  },
  {
   "cell_type": "code",
   "execution_count": 13,
   "id": "02a18358",
   "metadata": {},
   "outputs": [
    {
     "data": {
      "text/plain": [
       "['https://hi.wiktionary.org/w/index.php?title=सहन&oldid=459434',\n",
       " 'https://www.motorcyclegear.com/street/just_for_women/off_road_gear',\n",
       " 'https://www.onions-usa.org/onionista/vegetarian-recipes-with-onion/',\n",
       " 'https://www.the-exponent.com/relief-society-lesson-8-search-me-o-god-and-know-my-heart/',\n",
       " 'https://www.tresor.economie.gouv.fr/qui-sommes-nous/offre-d-emplois',\n",
       " 'https://www.hyperlinkinfosystem.com/hire-dedicated-developers-india.htm',\n",
       " 'https://science.howstuffworks.com/science-vs-myth/strange-creatures/jersey-devil.htm',\n",
       " 'https://wikimediaukraine.wordpress.com/2016/04/',\n",
       " 'https://www.techtarget.com/searchapparchitecture/news/252488601/Mendix-looks-to-change-the-low-code-landscape',\n",
       " 'https://aceproject.org/electoral-advice/']"
      ]
     },
     "execution_count": 13,
     "metadata": {},
     "output_type": "execute_result"
    }
   ],
   "source": [
    "# 檢查前10筆\n",
    "total_len[:10]"
   ]
  },
  {
   "cell_type": "code",
   "execution_count": null,
   "id": "50dc2daf",
   "metadata": {},
   "outputs": [],
   "source": []
  }
 ],
 "metadata": {
  "kernelspec": {
   "display_name": "Python 3 (ipykernel)",
   "language": "python",
   "name": "python3"
  },
  "language_info": {
   "codemirror_mode": {
    "name": "ipython",
    "version": 3
   },
   "file_extension": ".py",
   "mimetype": "text/x-python",
   "name": "python",
   "nbconvert_exporter": "python",
   "pygments_lexer": "ipython3",
   "version": "3.8.8"
  }
 },
 "nbformat": 4,
 "nbformat_minor": 5
}
